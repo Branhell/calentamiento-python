{
 "cells": [
  {
   "cell_type": "markdown",
   "id": "588cfffa-1b61-4659-8e0a-db9a5af76cc8",
   "metadata": {},
   "source": [
    "<h2 style=\"color:#1F618D; font-size:28px;\">🔹 Ejercicio 1 – Instalar Matplotlib 3.7.1</h2>\n",
    "\n",
    "<p style=\"color:#117A65; font-size:16px;\">\n",
    "En este ejercicio aprendí a instalar una versión específica de una biblioteca con <b>pip</b>, lo que garantiza compatibilidad y estabilidad en los proyectos.\n",
    "</p>\n"
   ]
  },
  {
   "cell_type": "markdown",
   "id": "5ba160db-2db7-4103-8bf0-96bb0baea321",
   "metadata": {},
   "source": [
    "1. Instalar la versión 3.7.1 de matplotlib"
   ]
  },
  {
   "cell_type": "code",
   "execution_count": null,
   "id": "369eace2-ac0c-4e42-82fa-89454ea52b73",
   "metadata": {},
   "outputs": [],
   "source": [
    "!pip install matplotlib==3.7.1"
   ]
  },
  {
   "cell_type": "markdown",
   "id": "54ec2e6c-fc14-4cc3-8221-1e2c6e006fcd",
   "metadata": {},
   "source": [
    "2. Importar numpy con alias np"
   ]
  },
  {
   "cell_type": "code",
   "execution_count": null,
   "id": "02f083f9-b248-44a7-8383-51f73c96be8c",
   "metadata": {},
   "outputs": [],
   "source": [
    "import numpy as np"
   ]
  },
  {
   "cell_type": "code",
   "execution_count": null,
   "id": "b21d0d90-1f2a-4b96-a23e-d4e2c6614f9f",
   "metadata": {},
   "outputs": [],
   "source": [
    "3. Elegir un número al azar de una lista\n",
    "\n",
    "import random\n",
    "\n",
    "lista = [8, 12, 54, 23, 43, 1, 90, 87, 105, 77]\n",
    "print(random.choice(lista))"
   ]
  },
  {
   "cell_type": "code",
   "execution_count": null,
   "id": "db29996f-aed8-4ca0-ac24-29044f252c18",
   "metadata": {},
   "outputs": [],
   "source": [
    "4. Generar un número entero menor que 100\n",
    "\n",
    "import random\n",
    "\n",
    "print(random.randint(0, 99))"
   ]
  },
  {
   "cell_type": "code",
   "execution_count": null,
   "id": "87d88ef9-74dd-4af2-8b08-5129a840a568",
   "metadata": {},
   "outputs": [],
   "source": [
    "5. Potencia de dos números ingresados\n",
    "\n",
    "base = int(input(\"Ingrese el primer número: \"))\n",
    "exponente = int(input(\"Ingrese el segundo número: \"))\n",
    "\n",
    "print(f\"{base} elevado a {exponente} es {base ** exponente}\")"
   ]
  },
  {
   "cell_type": "code",
   "execution_count": null,
   "id": "362c9d90-b8c2-4fd8-8e96-53529783c798",
   "metadata": {},
   "outputs": [],
   "source": [
    "6. Sorteo de un seguidor\n",
    "\n",
    "import random\n",
    "\n",
    "participantes = int(input(\"Ingrese el número de participantes: \"))\n",
    "ganador = random.randint(1, participantes)\n",
    "\n",
    "print(f\"El número sorteado es: {ganador}\")"
   ]
  },
  {
   "cell_type": "code",
   "execution_count": null,
   "id": "fe938e3c-a4b3-4524-a242-facfdbda5f6f",
   "metadata": {},
   "outputs": [],
   "source": [
    "7. Generar token par entre 1000 y 9998\n",
    "\n",
    "import random\n",
    "\n",
    "nombre_usuario = input(\"Ingrese su nombre: \")\n",
    "token_generado = random.randrange(1000, 9999, 2)\n",
    "\n",
    "print(f\"Hola, {nombre_usuario}, tu token de acceso es {token_generado} ¡Bienvenido/a!\")"
   ]
  },
  {
   "cell_type": "code",
   "execution_count": null,
   "id": "28e2d083-a8fb-4350-82e4-132c0e5a78c0",
   "metadata": {},
   "outputs": [],
   "source": [
    "8. Ensalada de frutas sorpresa\n",
    "\n",
    "import random\n",
    "\n",
    "frutas = [\"manzana\", \"banana\", \"uva\", \"pera\", \"mango\", \"coco\", \n",
    "          \"sandia\", \"fresa\", \"naranja\", \"maracuya\", \"kiwi\", \"cereza\"]\n",
    "\n",
    "ensalada = random.sample(frutas, 3)\n",
    "print(\"Tu ensalada sorpresa contiene:\", ensalada)"
   ]
  },
  {
   "cell_type": "code",
   "execution_count": null,
   "id": "b0c28939-ccae-4974-885e-a274b69f6bf8",
   "metadata": {},
   "outputs": [],
   "source": [
    "9. Raíz cuadrada e identificación de enteros\n",
    "\n",
    "import math\n",
    "\n",
    "numeros = [2, 8, 15, 23, 91, 112, 256]\n",
    "\n",
    "for n in numeros:\n",
    "    raiz = math.sqrt(n)\n",
    "    if raiz.is_integer():\n",
    "        print(f\"La raíz cuadrada de {n} es {int(raiz)}, un número entero.\")\n",
    "    else:\n",
    "        print(f\"La raíz cuadrada de {n} es {raiz:.2f}, no es entero.\")"
   ]
  },
  {
   "cell_type": "code",
   "execution_count": null,
   "id": "50dea7c9-a828-4d3d-9079-6bb9d9ea5aad",
   "metadata": {},
   "outputs": [],
   "source": [
    "10. Cálculo del costo de césped circular\n",
    "\n",
    "import math\n",
    "\n",
    "radio = float(input(\"Ingrese el radio del jardín en metros: \"))\n",
    "area = math.pi * (radio ** 2)\n",
    "precio = area * 25\n",
    "\n",
    "print(f\"El costo total es: R$ {precio:.2f}\")"
   ]
  }
 ],
 "metadata": {
  "kernelspec": {
   "display_name": "Python 3 (ipykernel)",
   "language": "python",
   "name": "python3"
  },
  "language_info": {
   "codemirror_mode": {
    "name": "ipython",
    "version": 3
   },
   "file_extension": ".py",
   "mimetype": "text/x-python",
   "name": "python",
   "nbconvert_exporter": "python",
   "pygments_lexer": "ipython3",
   "version": "3.11.9"
  }
 },
 "nbformat": 4,
 "nbformat_minor": 5
}
